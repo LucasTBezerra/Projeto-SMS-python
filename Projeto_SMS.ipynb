{
 "cells": [
  {
   "cell_type": "code",
   "execution_count": null,
   "metadata": {},
   "outputs": [],
   "source": [
    "# Sempre que trbalhando com Excel mover os docs em excel para past na qual está inserido o projeto .py\n",
    "import pandas as pd\n",
    "\n",
    "from twilio.rest import Client\n",
    "\n",
    "account_sid = \"-----------------------\"\n",
    "auth_token = \"------------------------\"\n",
    "client = Client(account_sid, auth_token)\n",
    "\n",
    "lista_meses = ['janeiro', 'fevereiro', 'março', 'abril', 'maio', 'junho']\n",
    "\n",
    "for mes in lista_meses:\n",
    "    tabela_vendas = pd.read_excel(f'{mes}.xlsx')\n",
    "    if (tabela_vendas['Vendas'] > 55000).any():\n",
    "        vendedor = tabela_vendas.loc[tabela_vendas['Vendas'] > 55000, 'Vendedor'].values[0]\n",
    "        vendas = tabela_vendas.loc[tabela_vendas['Vendas'] > 55000, 'Vendas'].values[0]\n",
    "        print(f'No mês de {mes} alguém que bateu a meta!!! Vendedor: {vendedor}, com um número de vendas de: {vendas}')\n",
    "        message = client.messages.create(\n",
    "            from_=\"+15077095892\",\n",
    "            to=\"+5500000000000\",\n",
    "            body=f'No mês de {mes} alguém que bateu a meta!!! Vendedor: {vendedor}, com um número de vendas de: {vendas}')"
   ]
  }
 ],
 "metadata": {
  "kernelspec": {
   "display_name": "Python 3",
   "language": "python",
   "name": "python3"
  },
  "language_info": {
   "name": "python",
   "version": "3.11.2"
  },
  "orig_nbformat": 4
 },
 "nbformat": 4,
 "nbformat_minor": 2
}
